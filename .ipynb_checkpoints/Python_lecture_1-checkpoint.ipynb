{
 "cells": [
  {
   "cell_type": "markdown",
   "metadata": {},
   "source": [
    "Lecture 1\n",
    "- comment and code\n",
    "- Mathematic opration \n",
    "- Variable \n",
    "    - Numeric : try numeric operation\n",
    "    - String : numeric operation ? \n",
    "    - Character\n",
    "\n",
    "- List\n",
    "    - array concept and indexing\n",
    "- Basic command \n",
    "    - print()\n",
    "    - range()\n",
    "    - For loop\n",
    "    "
   ]
  },
  {
   "cell_type": "code",
   "execution_count": 16,
   "metadata": {},
   "outputs": [
    {
     "name": "stdout",
     "output_type": "stream",
     "text": [
      "2\n",
      "1\n",
      "2\n",
      "2.0\n"
     ]
    }
   ],
   "source": [
    "# Mathematic operation. \n",
    "# addition: +,  subtraction: -, Multiplication: *,  Division: /, \n",
    "print( 1+1 )\n",
    "print( 2-1 )\n",
    "print( 2*1 )\n",
    "print( 4/2 )\n"
   ]
  },
  {
   "cell_type": "code",
   "execution_count": 17,
   "metadata": {},
   "outputs": [
    {
     "name": "stdout",
     "output_type": "stream",
     "text": [
      "1.alex:  10\n",
      "2.daniel:  20\n",
      "3.alex+daniel:  30\n",
      "4.daniel-alex:  10\n",
      "5.daniel*alex:  200\n",
      "6.daniel/alex:  2.0\n",
      "7.alex:  alex\n",
      "8.daniel:  daniel\n",
      "9.alex+daniel in string:  alexdaniel\n"
     ]
    }
   ],
   "source": [
    "# Variable \n",
    "\n",
    "# 1. Numeric variable\n",
    "alex = 10\n",
    "daniel = 20 \n",
    "\n",
    "print(\"1.alex: \", alex)\n",
    "print(\"2.daniel: \",daniel)\n",
    "print(\"3.alex+daniel: \", alex+ daniel)\n",
    "print(\"4.daniel-alex: \", daniel - alex)\n",
    "print(\"5.daniel*alex: \", daniel * alex)\n",
    "print(\"6.daniel/alex: \", daniel / alex)\n",
    "\n",
    "# 1. String variable\n",
    "alex = 'alex'\n",
    "daniel = 'daniel'\n",
    "\n",
    "print(\"7.alex: \", alex)\n",
    "print(\"8.daniel: \", daniel)\n",
    "print('9.alex+daniel in string: ',alex + daniel)"
   ]
  },
  {
   "cell_type": "code",
   "execution_count": 18,
   "metadata": {},
   "outputs": [
    {
     "name": "stdout",
     "output_type": "stream",
     "text": [
      "alex_profile1:  [5, 30, 6472]\n",
      "alex_profile2:  ['San Jose', 'Taylor', 'Kim']\n"
     ]
    }
   ],
   "source": [
    "## List is collection of same type of variable \n",
    "\n",
    "alex_height = 5\n",
    "alex_weight = 30\n",
    "alex_zipcode = 6472\n",
    "\n",
    "alex_profile1 = [alex_height, alex_weight, alex_zipcode]\n",
    "print('alex_profile1: ', alex_profile1)\n",
    "\n",
    "alex_addr = 'San Jose'\n",
    "alex_school = 'Taylor'\n",
    "alex_last_name = 'Kim'\n",
    "\n",
    "alex_profile2 = [alex_addr, alex_school, alex_last_name]\n",
    "print('alex_profile2: ', alex_profile2)"
   ]
  },
  {
   "cell_type": "code",
   "execution_count": 19,
   "metadata": {},
   "outputs": [
    {
     "name": "stdout",
     "output_type": "stream",
     "text": [
      "5\n",
      "30\n",
      "6472\n",
      "San Jose\n",
      "Taylor\n",
      "Kim\n"
     ]
    }
   ],
   "source": [
    "# Lets use index to access each item in alex profile \n",
    "# In most coding languate, index start from 0\n",
    "\n",
    "print(alex_profile1[0])  # First item of alex_profile1 list\n",
    "print(alex_profile1[1])  # Second item of alex_profile1 list\n",
    "print(alex_profile1[2])  # Thirt item of alex_profile1 list\n",
    "\n",
    "print(alex_profile2[0])  # First item of alex_profile2 list\n",
    "print(alex_profile2[1])  # Second item of alex_profile2 list\n",
    "print(alex_profile2[2])  # Thirt item of alex_profile2 list\n"
   ]
  },
  {
   "cell_type": "code",
   "execution_count": 25,
   "metadata": {},
   "outputs": [
    {
     "name": "stdout",
     "output_type": "stream",
     "text": [
      "This will repeat for 5 times from 0 to 4\n",
      "This will repeat for 5 times from 0 to 4\n",
      "This will repeat for 5 times from 0 to 4\n",
      "This will repeat for 5 times from 0 to 4\n",
      "This will repeat for 5 times from 0 to 4\n",
      "This is not the part of the loop\n"
     ]
    }
   ],
   "source": [
    "## For loop \n",
    "## For loop repeat the task below \"for loop\" statement for amount of loops specified in \"loop\"\n",
    "## grammar -->. for 'variable' in 'number of loop or iteration' :  # don't forget : \n",
    "## Becareful about the indentation. Only the indented line will be affected by for loop\n",
    "\n",
    "for i in range(5):\n",
    "    print('This will repeat for 5 times from 0 to 4')\n",
    "\n",
    "print('This is not the part of the loop')"
   ]
  },
  {
   "cell_type": "code",
   "execution_count": 24,
   "metadata": {},
   "outputs": [
    {
     "name": "stdout",
     "output_type": "stream",
     "text": [
      "0\n",
      "1\n",
      "2\n",
      "3\n",
      "4\n"
     ]
    }
   ],
   "source": [
    "## What is 'i' ?  i means the iteration(repeatition) number\n",
    "## so i will increase by 1 as default in the next loop\n",
    "for i in range(5):\n",
    "    print(i)"
   ]
  },
  {
   "cell_type": "code",
   "execution_count": 27,
   "metadata": {},
   "outputs": [],
   "source": [
    "## Let's create the list for testing \n",
    "L = ['alex','daniel','peter','jennie']"
   ]
  },
  {
   "cell_type": "code",
   "execution_count": 28,
   "metadata": {},
   "outputs": [
    {
     "name": "stdout",
     "output_type": "stream",
     "text": [
      "alex\n",
      "daniel\n",
      "peter\n",
      "jennie\n"
     ]
    }
   ],
   "source": [
    "## so i will increase by 1 as default in the next loop\n",
    "for i in range(4):\n",
    "    print(L[i])"
   ]
  },
  {
   "cell_type": "code",
   "execution_count": null,
   "metadata": {},
   "outputs": [],
   "source": []
  }
 ],
 "metadata": {
  "kernelspec": {
   "display_name": "Python 3",
   "language": "python",
   "name": "python3"
  },
  "language_info": {
   "codemirror_mode": {
    "name": "ipython",
    "version": 3
   },
   "file_extension": ".py",
   "mimetype": "text/x-python",
   "name": "python",
   "nbconvert_exporter": "python",
   "pygments_lexer": "ipython3",
   "version": "3.7.3"
  }
 },
 "nbformat": 4,
 "nbformat_minor": 2
}
